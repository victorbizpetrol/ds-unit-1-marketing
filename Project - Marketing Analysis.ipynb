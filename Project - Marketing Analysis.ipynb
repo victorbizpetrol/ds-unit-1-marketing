{
 "cells": [
  {
   "cell_type": "markdown",
   "metadata": {},
   "source": [
    "![rmotr](https://user-images.githubusercontent.com/7065401/39119486-4718e386-46ec-11e8-9fc3-5250a49ef570.png)\n",
    "<hr style=\"margin-bottom: 40px;\">\n",
    "\n",
    "<img src=\"https://user-images.githubusercontent.com/7065401/39123704-ea58fb38-46f8-11e8-883c-d01f27909c43.jpg\"\n",
    "    style=\"width:300px; float: right; margin: 0 40px 40px 40px;\"></img>\n",
    "\n",
    "# Project assignment: Marketing Analysis\n",
    "\n",
    "Your homework for today is to clean, normalize and analyze a dataset gathered from shopping mall customers in the San Francisco Bay area. It's a survey done in 1987, so you might expect many data-entry related errors."
   ]
  },
  {
   "cell_type": "markdown",
   "metadata": {},
   "source": [
    "![separator2](https://user-images.githubusercontent.com/7065401/39119518-59fa51ce-46ec-11e8-8503-5f8136558f2b.png)\n",
    "\n",
    "### Hands on! "
   ]
  },
  {
   "cell_type": "markdown",
   "metadata": {},
   "source": [
    "The dataset is contained in `data/marketing.csv` along with a file that describes the fields (`data/marketing-description.txt`).\n",
    "\n",
    "What inconsistencies can you find? What are the fields with more issues? How can you transform the data to be expressed in a better way? What variables are related and at what extent?\n",
    "\n",
    "All these are the questions that you should be asking and answering."
   ]
  },
  {
   "cell_type": "code",
   "execution_count": 2,
   "metadata": {},
   "outputs": [],
   "source": [
    "import pandas as pd\n",
    "import numpy as np\n",
    "import matplotlib.pyplot as plt\n",
    "import seaborn as sns\n",
    "\n",
    "%matplotlib inline\n",
    "\n",
    "import warnings\n",
    "warnings.filterwarnings('ignore')"
   ]
  },
  {
   "cell_type": "code",
   "execution_count": 3,
   "metadata": {},
   "outputs": [],
   "source": [
    "sns.set(rc={'figure.figsize': (18, 6)})"
   ]
  },
  {
   "cell_type": "markdown",
   "metadata": {},
   "source": [
    "---"
   ]
  },
  {
   "cell_type": "markdown",
   "metadata": {},
   "source": [
    "<table style=\"width: 100%; border: 4px solid #00F;\">\n",
    "    <tr>\n",
    "        <td width=\"80\"><img src=\"https://user-images.githubusercontent.com/7065401/39122907-870d233a-46f6-11e8-84b1-ede5e3714362.png\"></td>\n",
    "        <td style=\"font-size: 14px; text-align: left\">\n",
    "            <span style=\"color: #00F; font-size: 20px; font-weight: 900; margin-right: 5px;\">1.</span>\n",
    "            Load the dataset `data/marketing.csv` as a Pandas dataframe on a variable called `df`.\n",
    "        </td>\n",
    "    </tr>\n",
    "</table>\n",
    "\n",
    "We don't want you to get stuck with this step. Reading and parsing CSV's with incorrect structure, encoding or separators can be tedious. Only for this step, the solution is provided. Your job is to keep completing the cells that are empty and have the `Your code goes here` comment."
   ]
  },
  {
   "cell_type": "code",
   "execution_count": 5,
   "metadata": {},
   "outputs": [],
   "source": [
    "df = pd.read_csv('data/marketing.csv', sep=';')"
   ]
  },
  {
   "cell_type": "code",
   "execution_count": 6,
   "metadata": {
    "scrolled": true
   },
   "outputs": [
    {
     "data": {
      "text/html": [
       "<div>\n",
       "<style scoped>\n",
       "    .dataframe tbody tr th:only-of-type {\n",
       "        vertical-align: middle;\n",
       "    }\n",
       "\n",
       "    .dataframe tbody tr th {\n",
       "        vertical-align: top;\n",
       "    }\n",
       "\n",
       "    .dataframe thead th {\n",
       "        text-align: right;\n",
       "    }\n",
       "</style>\n",
       "<table border=\"1\" class=\"dataframe\">\n",
       "  <thead>\n",
       "    <tr style=\"text-align: right;\">\n",
       "      <th></th>\n",
       "      <th>Sex</th>\n",
       "      <th>MaritalStatus</th>\n",
       "      <th>Age</th>\n",
       "      <th>Education</th>\n",
       "      <th>Occupation</th>\n",
       "      <th>YearsInSf</th>\n",
       "      <th>DualIncome</th>\n",
       "      <th>HouseholdMembers</th>\n",
       "      <th>Under18</th>\n",
       "      <th>HouseholdStatus</th>\n",
       "      <th>TypeOfHome</th>\n",
       "      <th>EthnicClass</th>\n",
       "      <th>Language</th>\n",
       "      <th>AnualIncome</th>\n",
       "    </tr>\n",
       "  </thead>\n",
       "  <tbody>\n",
       "    <tr>\n",
       "      <th>1</th>\n",
       "      <td>2</td>\n",
       "      <td>1</td>\n",
       "      <td>5.0</td>\n",
       "      <td>4</td>\n",
       "      <td>5</td>\n",
       "      <td>5</td>\n",
       "      <td>3</td>\n",
       "      <td>3</td>\n",
       "      <td>0</td>\n",
       "      <td>Own</td>\n",
       "      <td>1</td>\n",
       "      <td>7</td>\n",
       "      <td>?</td>\n",
       "      <td>76004</td>\n",
       "    </tr>\n",
       "    <tr>\n",
       "      <th>2</th>\n",
       "      <td>Male</td>\n",
       "      <td>1</td>\n",
       "      <td>5.0</td>\n",
       "      <td>5</td>\n",
       "      <td>5</td>\n",
       "      <td>5</td>\n",
       "      <td>3</td>\n",
       "      <td>5</td>\n",
       "      <td>2</td>\n",
       "      <td>Own</td>\n",
       "      <td>1</td>\n",
       "      <td>7</td>\n",
       "      <td>1</td>\n",
       "      <td>76004</td>\n",
       "    </tr>\n",
       "    <tr>\n",
       "      <th>3</th>\n",
       "      <td>2</td>\n",
       "      <td>1</td>\n",
       "      <td>3.0</td>\n",
       "      <td>5</td>\n",
       "      <td>1</td>\n",
       "      <td>5</td>\n",
       "      <td>2</td>\n",
       "      <td>3</td>\n",
       "      <td>1</td>\n",
       "      <td>Rent</td>\n",
       "      <td>3</td>\n",
       "      <td>7</td>\n",
       "      <td>1</td>\n",
       "      <td>34000</td>\n",
       "    </tr>\n",
       "    <tr>\n",
       "      <th>4</th>\n",
       "      <td>2</td>\n",
       "      <td>5</td>\n",
       "      <td>1.0</td>\n",
       "      <td>2</td>\n",
       "      <td>6</td>\n",
       "      <td>5</td>\n",
       "      <td>1</td>\n",
       "      <td>4</td>\n",
       "      <td>2</td>\n",
       "      <td>Live with Parents/Family</td>\n",
       "      <td>1</td>\n",
       "      <td>7</td>\n",
       "      <td>1</td>\n",
       "      <td>9136</td>\n",
       "    </tr>\n",
       "    <tr>\n",
       "      <th>5</th>\n",
       "      <td>2</td>\n",
       "      <td>5</td>\n",
       "      <td>1.0</td>\n",
       "      <td>2</td>\n",
       "      <td>6</td>\n",
       "      <td>3</td>\n",
       "      <td>1</td>\n",
       "      <td>4</td>\n",
       "      <td>2</td>\n",
       "      <td>Live with Parents/Family</td>\n",
       "      <td>1</td>\n",
       "      <td>7</td>\n",
       "      <td>1</td>\n",
       "      <td>9136</td>\n",
       "    </tr>\n",
       "  </tbody>\n",
       "</table>\n",
       "</div>"
      ],
      "text/plain": [
       "    Sex MaritalStatus  Age Education Occupation YearsInSf  DualIncome  \\\n",
       "1     2             1  5.0         4          5         5           3   \n",
       "2  Male             1  5.0         5          5         5           3   \n",
       "3     2             1  3.0         5          1         5           2   \n",
       "4     2             5  1.0         2          6         5           1   \n",
       "5     2             5  1.0         2          6         3           1   \n",
       "\n",
       "  HouseholdMembers  Under18           HouseholdStatus TypeOfHome EthnicClass  \\\n",
       "1                3        0                       Own          1           7   \n",
       "2                5        2                       Own          1           7   \n",
       "3                3        1                      Rent          3           7   \n",
       "4                4        2  Live with Parents/Family          1           7   \n",
       "5                4        2  Live with Parents/Family          1           7   \n",
       "\n",
       "  Language AnualIncome  \n",
       "1        ?       76004  \n",
       "2        1       76004  \n",
       "3        1       34000  \n",
       "4        1        9136  \n",
       "5        1        9136  "
      ]
     },
     "execution_count": 6,
     "metadata": {},
     "output_type": "execute_result"
    }
   ],
   "source": [
    "df.head()"
   ]
  },
  {
   "cell_type": "markdown",
   "metadata": {},
   "source": [
    "---"
   ]
  },
  {
   "cell_type": "markdown",
   "metadata": {},
   "source": [
    "![separator1](https://user-images.githubusercontent.com/7065401/39119545-6d73d9aa-46ec-11e8-98d3-40204614f000.png)\n",
    "\n",
    "<table style=\"width: 100%; border: 4px solid #00F;\">\n",
    "    <tr>\n",
    "        <td width=\"80\"><img src=\"https://user-images.githubusercontent.com/7065401/39122907-870d233a-46f6-11e8-84b1-ede5e3714362.png\"></td>\n",
    "        <td style=\"font-size: 14px; text-align: left\">\n",
    "            <span style=\"color: #00F; font-size: 20px; font-weight: 900; margin-right: 5px;\">2.</span>\n",
    "            Check if there is any null value on the dataframe.\n",
    "        </td>\n",
    "    </tr>\n",
    "</table>\n",
    "\n",
    "> ⚠️ <i>Sometimes null values are represented by special characters, check <b>unique values</b> to find them.</i>"
   ]
  },
  {
   "cell_type": "code",
   "execution_count": 6,
   "metadata": {},
   "outputs": [
    {
     "data": {
      "text/plain": [
       "Sex                  3\n",
       "MaritalStatus        2\n",
       "Age                  2\n",
       "Education            1\n",
       "Occupation          12\n",
       "YearsInSf            0\n",
       "DualIncome           0\n",
       "HouseholdMembers     4\n",
       "Under18              0\n",
       "HouseholdStatus      3\n",
       "TypeOfHome           0\n",
       "EthnicClass          4\n",
       "Language             1\n",
       "AnualIncome          6\n",
       "dtype: int64"
      ]
     },
     "execution_count": 6,
     "metadata": {},
     "output_type": "execute_result"
    }
   ],
   "source": [
    "df.isnull().sum()"
   ]
  },
  {
   "cell_type": "code",
   "execution_count": 7,
   "metadata": {},
   "outputs": [
    {
     "name": "stdout",
     "output_type": "stream",
     "text": [
      "Columns: Sex, ['2' 'Male' '8' nan '9']\n",
      "Columns: MaritalStatus, ['1' '5' '3' '2' '4' '?' nan]\n",
      "Columns: Age, [ 5.  3.  1.  6.  2.  7.  4. nan]\n",
      "Columns: Education, ['4' '5' '2' '3' '6' nan '1' '?']\n",
      "Columns: Occupation, ['5' '1' '6' '8' '9' '3' '2' '?' nan '4' '7']\n",
      "Columns: YearsInSf, ['5' '3' '4' '2' '1' '?']\n",
      "Columns: DualIncome, [3 2 1]\n",
      "Columns: HouseholdMembers, ['3' '5' '4' '2' '1' nan '6' '?' '7' '8' '9']\n",
      "Columns: Under18, [0 2 1 3 4 5 6 8 7 9]\n",
      "Columns: HouseholdStatus, ['Own' 'Rent' 'Live with Parents/Family' nan '?' 'Rental'\n",
      " 'Live with Parents' 'Live with Family' 'Live with Fam']\n",
      "Columns: TypeOfHome, ['1' '3' '5' '2' '4' '?']\n",
      "Columns: EthnicClass, ['7' '5' '2' '3' '8' '4' '1' '?' '6' nan]\n",
      "Columns: Language, ['?' '1' '2' '3' nan]\n",
      "Columns: AnualIncome, ['76004' '34000' '9136' '66994' '32171' '11703' '21672' '46894'\n",
      " '7600000000000000004' '27591' '19997' '253600' '35500' '7' '7540' '?' nan\n",
      " '91000000000036' '468940000000000000000000000000' '5740' '460' '15500'\n",
      " '2460' '9460' '150500' '75500']\n"
     ]
    }
   ],
   "source": [
    "for col in df.columns:\n",
    "    print(\"Columns: {}, {}\".format(col, df[col].unique()))"
   ]
  },
  {
   "cell_type": "markdown",
   "metadata": {},
   "source": [
    "---"
   ]
  },
  {
   "cell_type": "markdown",
   "metadata": {},
   "source": [
    "![separator1](https://user-images.githubusercontent.com/7065401/39119545-6d73d9aa-46ec-11e8-98d3-40204614f000.png)\n",
    "\n",
    "<table style=\"width: 100%; border: 4px solid #00F;\">\n",
    "    <tr>\n",
    "        <td width=\"80\"><img src=\"https://user-images.githubusercontent.com/7065401/39122907-870d233a-46f6-11e8-84b1-ede5e3714362.png\"></td>\n",
    "        <td style=\"font-size: 14px; text-align: left\">\n",
    "            <span style=\"color: #00F; font-size: 20px; font-weight: 900; margin-right: 5px;\">3.</span>\n",
    "            Remove the rows that contain invalid values.\n",
    "        </td>\n",
    "    </tr>\n",
    "</table>"
   ]
  },
  {
   "cell_type": "code",
   "execution_count": 8,
   "metadata": {},
   "outputs": [],
   "source": [
    "#For Sex: change Male to 1, 8 & 9 to nan\n",
    "df = df.replace({\n",
    "    'Sex': {\n",
    "        'Male' : '1',\n",
    "        '8' : np.nan,\n",
    "        '9' : np.nan\n",
    "    }\n",
    "})"
   ]
  },
  {
   "cell_type": "code",
   "execution_count": 9,
   "metadata": {},
   "outputs": [],
   "source": [
    "#Replace all occurrences of ? with nan\n",
    "df = df.replace({'?': np.nan})"
   ]
  },
  {
   "cell_type": "code",
   "execution_count": 10,
   "metadata": {},
   "outputs": [],
   "source": [
    "#drop all null values\n",
    "df = df.dropna()"
   ]
  },
  {
   "cell_type": "code",
   "execution_count": 11,
   "metadata": {},
   "outputs": [
    {
     "name": "stdout",
     "output_type": "stream",
     "text": [
      "Columns: Sex, ['1' '2']\n",
      "Columns: MaritalStatus, ['1' '5' '3' '2' '4']\n",
      "Columns: Age, [5. 3. 1. 6. 2. 7. 4.]\n",
      "Columns: Education, ['5' '2' '4' '3' '6' '1']\n",
      "Columns: Occupation, ['5' '1' '6' '8' '9' '3' '2' '4' '7']\n",
      "Columns: YearsInSf, ['5' '3' '4' '2' '1']\n",
      "Columns: DualIncome, [3 2 1]\n",
      "Columns: HouseholdMembers, ['5' '3' '4' '2' '1' '6' '7' '9' '8']\n",
      "Columns: Under18, [2 1 0 3 4 5 6 8 7 9]\n",
      "Columns: HouseholdStatus, ['Own' 'Rent' 'Live with Parents/Family' 'Rental' 'Live with Parents'\n",
      " 'Live with Family' 'Live with Fam']\n",
      "Columns: TypeOfHome, ['1' '3' '5' '2' '4']\n",
      "Columns: EthnicClass, ['7' '5' '2' '3' '4' '8' '1' '6']\n",
      "Columns: Language, ['1' '3' '2']\n",
      "Columns: AnualIncome, ['76004' '34000' '9136' '66994' '32171' '11703' '21672' '46894' '27591'\n",
      " '19997' '253600' '7' '7540' '91000000000036' '5740' '460' '2460' '9460'\n",
      " '150500' '75500']\n"
     ]
    }
   ],
   "source": [
    "for col in df.columns:\n",
    "    print(\"Columns: {}, {}\".format(col, df[col].unique()))"
   ]
  },
  {
   "cell_type": "markdown",
   "metadata": {},
   "source": [
    "---"
   ]
  },
  {
   "cell_type": "markdown",
   "metadata": {},
   "source": [
    "![separator1](https://user-images.githubusercontent.com/7065401/39119545-6d73d9aa-46ec-11e8-98d3-40204614f000.png)\n",
    "\n",
    "<table style=\"width: 100%; border: 4px solid #00F;\">\n",
    "    <tr>\n",
    "        <td width=\"80\"><img src=\"https://user-images.githubusercontent.com/7065401/39122907-870d233a-46f6-11e8-84b1-ede5e3714362.png\"></td>\n",
    "        <td style=\"font-size: 14px; text-align: left\">\n",
    "            <span style=\"color: #00F; font-size: 20px; font-weight: 900; margin-right: 5px;\">4.</span>\n",
    "            Show <b>basic descriptive statistics</b> (mean, mix, max...) of the data.\n",
    "        </td>\n",
    "    </tr>\n",
    "</table>"
   ]
  },
  {
   "cell_type": "code",
   "execution_count": 12,
   "metadata": {},
   "outputs": [
    {
     "data": {
      "text/html": [
       "<div>\n",
       "<style scoped>\n",
       "    .dataframe tbody tr th:only-of-type {\n",
       "        vertical-align: middle;\n",
       "    }\n",
       "\n",
       "    .dataframe tbody tr th {\n",
       "        vertical-align: top;\n",
       "    }\n",
       "\n",
       "    .dataframe thead th {\n",
       "        text-align: right;\n",
       "    }\n",
       "</style>\n",
       "<table border=\"1\" class=\"dataframe\">\n",
       "  <thead>\n",
       "    <tr style=\"text-align: right;\">\n",
       "      <th></th>\n",
       "      <th>Age</th>\n",
       "      <th>DualIncome</th>\n",
       "      <th>Under18</th>\n",
       "    </tr>\n",
       "  </thead>\n",
       "  <tbody>\n",
       "    <tr>\n",
       "      <th>count</th>\n",
       "      <td>6845.000000</td>\n",
       "      <td>6845.000000</td>\n",
       "      <td>6845.000000</td>\n",
       "    </tr>\n",
       "    <tr>\n",
       "      <th>mean</th>\n",
       "      <td>3.407889</td>\n",
       "      <td>1.549744</td>\n",
       "      <td>0.688240</td>\n",
       "    </tr>\n",
       "    <tr>\n",
       "      <th>std</th>\n",
       "      <td>1.609857</td>\n",
       "      <td>0.737680</td>\n",
       "      <td>1.082828</td>\n",
       "    </tr>\n",
       "    <tr>\n",
       "      <th>min</th>\n",
       "      <td>1.000000</td>\n",
       "      <td>1.000000</td>\n",
       "      <td>0.000000</td>\n",
       "    </tr>\n",
       "    <tr>\n",
       "      <th>25%</th>\n",
       "      <td>2.000000</td>\n",
       "      <td>1.000000</td>\n",
       "      <td>0.000000</td>\n",
       "    </tr>\n",
       "    <tr>\n",
       "      <th>50%</th>\n",
       "      <td>3.000000</td>\n",
       "      <td>1.000000</td>\n",
       "      <td>0.000000</td>\n",
       "    </tr>\n",
       "    <tr>\n",
       "      <th>75%</th>\n",
       "      <td>4.000000</td>\n",
       "      <td>2.000000</td>\n",
       "      <td>1.000000</td>\n",
       "    </tr>\n",
       "    <tr>\n",
       "      <th>max</th>\n",
       "      <td>7.000000</td>\n",
       "      <td>3.000000</td>\n",
       "      <td>9.000000</td>\n",
       "    </tr>\n",
       "  </tbody>\n",
       "</table>\n",
       "</div>"
      ],
      "text/plain": [
       "               Age   DualIncome      Under18\n",
       "count  6845.000000  6845.000000  6845.000000\n",
       "mean      3.407889     1.549744     0.688240\n",
       "std       1.609857     0.737680     1.082828\n",
       "min       1.000000     1.000000     0.000000\n",
       "25%       2.000000     1.000000     0.000000\n",
       "50%       3.000000     1.000000     0.000000\n",
       "75%       4.000000     2.000000     1.000000\n",
       "max       7.000000     3.000000     9.000000"
      ]
     },
     "execution_count": 12,
     "metadata": {},
     "output_type": "execute_result"
    }
   ],
   "source": [
    "df.describe()\n",
    "\n"
   ]
  },
  {
   "cell_type": "markdown",
   "metadata": {},
   "source": [
    "---"
   ]
  },
  {
   "cell_type": "markdown",
   "metadata": {},
   "source": [
    "![separator1](https://user-images.githubusercontent.com/7065401/39119545-6d73d9aa-46ec-11e8-98d3-40204614f000.png)\n",
    "\n",
    "<table style=\"width: 100%; border: 4px solid #00F;\">\n",
    "    <tr>\n",
    "        <td width=\"80\"><img src=\"https://user-images.githubusercontent.com/7065401/39122907-870d233a-46f6-11e8-84b1-ede5e3714362.png\"></td>\n",
    "        <td style=\"font-size: 14px; text-align: left\">\n",
    "            <span style=\"color: #00F; font-size: 20px; font-weight: 900; margin-right: 5px;\">5.</span>\n",
    "            Show a boxplot of `AnualIncome` variable.\n",
    "        </td>\n",
    "    </tr>\n",
    "</table>"
   ]
  },
  {
   "cell_type": "code",
   "execution_count": 13,
   "metadata": {},
   "outputs": [
    {
     "data": {
      "text/plain": [
       "<matplotlib.axes._subplots.AxesSubplot at 0x7f6cbf21db38>"
      ]
     },
     "execution_count": 13,
     "metadata": {},
     "output_type": "execute_result"
    },
    {
     "data": {
      "image/png": "[encoded data removed]",
      "text/plain": [
       "<Figure size 1296x432 with 1 Axes>"
      ]
     },
     "metadata": {},
     "output_type": "display_data"
    }
   ],
   "source": [
    "sns.boxplot(data=df['AnualIncome'].to_frame())"
   ]
  },
  {
   "cell_type": "markdown",
   "metadata": {},
   "source": [
    "---"
   ]
  },
  {
   "cell_type": "markdown",
   "metadata": {},
   "source": [
    "![separator1](https://user-images.githubusercontent.com/7065401/39119545-6d73d9aa-46ec-11e8-98d3-40204614f000.png)\n",
    "\n",
    "<table style=\"width: 100%; border: 4px solid #00F;\">\n",
    "    <tr>\n",
    "        <td width=\"80\"><img src=\"https://user-images.githubusercontent.com/7065401/39122907-870d233a-46f6-11e8-84b1-ede5e3714362.png\"></td>\n",
    "        <td style=\"font-size: 14px; text-align: left\">\n",
    "            <span style=\"color: #00F; font-size: 20px; font-weight: 900; margin-right: 5px;\">6.</span>\n",
    "            Identify outlier values on `AnualIncome` and remove them.\n",
    "        </td>\n",
    "    </tr>\n",
    "</table>"
   ]
  },
  {
   "cell_type": "code",
   "execution_count": 14,
   "metadata": {},
   "outputs": [
    {
     "data": {
      "text/plain": [
       "array(['76004', '34000', '9136', '66994', '32171', '11703', '21672',\n",
       "       '46894', '27591', '19997', '253600', '7', '7540', '91000000000036',\n",
       "       '5740', '460', '2460', '9460', '150500', '75500'], dtype=object)"
      ]
     },
     "execution_count": 14,
     "metadata": {},
     "output_type": "execute_result"
    }
   ],
   "source": [
    "df['AnualIncome'].unique()\n"
   ]
  },
  {
   "cell_type": "code",
   "execution_count": 15,
   "metadata": {},
   "outputs": [],
   "source": [
    "outliers = ['253600', '91000000000036', '150500']\n",
    "df = df.loc[~df['AnualIncome'].isin(outliers), :]"
   ]
  },
  {
   "cell_type": "code",
   "execution_count": 16,
   "metadata": {},
   "outputs": [
    {
     "data": {
      "text/plain": [
       "<matplotlib.axes._subplots.AxesSubplot at 0x7f6cbef7f5f8>"
      ]
     },
     "execution_count": 16,
     "metadata": {},
     "output_type": "execute_result"
    },
    {
     "data": {
      "image/png": "[encoded data removed]",
      "text/plain": [
       "<Figure size 1296x432 with 1 Axes>"
      ]
     },
     "metadata": {},
     "output_type": "display_data"
    }
   ],
   "source": [
    "sns.boxplot(data=df['AnualIncome'].to_frame())"
   ]
  },
  {
   "cell_type": "markdown",
   "metadata": {},
   "source": [
    "---"
   ]
  },
  {
   "cell_type": "markdown",
   "metadata": {},
   "source": [
    "![separator1](https://user-images.githubusercontent.com/7065401/39119545-6d73d9aa-46ec-11e8-98d3-40204614f000.png)\n",
    "\n",
    "<table style=\"width: 100%; border: 4px solid #00F;\">\n",
    "    <tr>\n",
    "        <td width=\"80\"><img src=\"https://user-images.githubusercontent.com/7065401/39122907-870d233a-46f6-11e8-84b1-ede5e3714362.png\"></td>\n",
    "        <td style=\"font-size: 14px; text-align: left\">\n",
    "            <span style=\"color: #00F; font-size: 20px; font-weight: 900; margin-right: 5px;\">7.</span>\n",
    "            Show two different `countplot` for `Sex` and `Education` variables.\n",
    "        </td>\n",
    "    </tr>\n",
    "</table>"
   ]
  },
  {
   "cell_type": "code",
   "execution_count": 17,
   "metadata": {
    "scrolled": false
   },
   "outputs": [
    {
     "data": {
      "text/plain": [
       "<matplotlib.axes._subplots.AxesSubplot at 0x7f6cbf14d2b0>"
      ]
     },
     "execution_count": 17,
     "metadata": {},
     "output_type": "execute_result"
    },
    {
     "data": {
      "image/png": "[encoded data removed]",
      "text/plain": [
       "<Figure size 1296x432 with 1 Axes>"
      ]
     },
     "metadata": {},
     "output_type": "display_data"
    }
   ],
   "source": [
    "sns.countplot(data=df, x='Sex')"
   ]
  },
  {
   "cell_type": "code",
   "execution_count": 18,
   "metadata": {},
   "outputs": [
    {
     "data": {
      "text/plain": [
       "<matplotlib.axes._subplots.AxesSubplot at 0x7f6cbf10ecc0>"
      ]
     },
     "execution_count": 18,
     "metadata": {},
     "output_type": "execute_result"
    },
    {
     "data": {
      "image/png": "[encoded data removed]",
      "text/plain": [
       "<Figure size 1296x432 with 1 Axes>"
      ]
     },
     "metadata": {},
     "output_type": "display_data"
    }
   ],
   "source": [
    "sns.countplot(data=df, x='Education')\n"
   ]
  },
  {
   "cell_type": "markdown",
   "metadata": {},
   "source": [
    "---"
   ]
  },
  {
   "cell_type": "markdown",
   "metadata": {},
   "source": [
    "![separator1](https://user-images.githubusercontent.com/7065401/39119545-6d73d9aa-46ec-11e8-98d3-40204614f000.png)\n",
    "\n",
    "<table style=\"width: 100%; border: 4px solid #00F;\">\n",
    "    <tr>\n",
    "        <td width=\"80\"><img src=\"https://user-images.githubusercontent.com/7065401/39122907-870d233a-46f6-11e8-84b1-ede5e3714362.png\"></td>\n",
    "        <td style=\"font-size: 14px; text-align: left\">\n",
    "            <span style=\"color: #00F; font-size: 20px; font-weight: 900; margin-right: 5px;\">8.</span>\n",
    "            Show only `Sex` and `HouseholdStatus` of the first 20 observations.\n",
    "        </td>\n",
    "    </tr>\n",
    "</table>"
   ]
  },
  {
   "cell_type": "code",
   "execution_count": 23,
   "metadata": {},
   "outputs": [
    {
     "data": {
      "text/html": [
       "<div>\n",
       "<style scoped>\n",
       "    .dataframe tbody tr th:only-of-type {\n",
       "        vertical-align: middle;\n",
       "    }\n",
       "\n",
       "    .dataframe tbody tr th {\n",
       "        vertical-align: top;\n",
       "    }\n",
       "\n",
       "    .dataframe thead th {\n",
       "        text-align: right;\n",
       "    }\n",
       "</style>\n",
       "<table border=\"1\" class=\"dataframe\">\n",
       "  <thead>\n",
       "    <tr style=\"text-align: right;\">\n",
       "      <th></th>\n",
       "      <th>Sex</th>\n",
       "      <th>HouseholdStatus</th>\n",
       "    </tr>\n",
       "  </thead>\n",
       "  <tbody>\n",
       "    <tr>\n",
       "      <th>2</th>\n",
       "      <td>1</td>\n",
       "      <td>Own</td>\n",
       "    </tr>\n",
       "    <tr>\n",
       "      <th>3</th>\n",
       "      <td>2</td>\n",
       "      <td>Rent</td>\n",
       "    </tr>\n",
       "    <tr>\n",
       "      <th>4</th>\n",
       "      <td>2</td>\n",
       "      <td>Live with Parents/Family</td>\n",
       "    </tr>\n",
       "    <tr>\n",
       "      <th>5</th>\n",
       "      <td>2</td>\n",
       "      <td>Live with Parents/Family</td>\n",
       "    </tr>\n",
       "    <tr>\n",
       "      <th>6</th>\n",
       "      <td>1</td>\n",
       "      <td>Own</td>\n",
       "    </tr>\n",
       "    <tr>\n",
       "      <th>7</th>\n",
       "      <td>1</td>\n",
       "      <td>Rent</td>\n",
       "    </tr>\n",
       "    <tr>\n",
       "      <th>8</th>\n",
       "      <td>1</td>\n",
       "      <td>Rent</td>\n",
       "    </tr>\n",
       "    <tr>\n",
       "      <th>9</th>\n",
       "      <td>1</td>\n",
       "      <td>Rent</td>\n",
       "    </tr>\n",
       "    <tr>\n",
       "      <th>10</th>\n",
       "      <td>1</td>\n",
       "      <td>Rent</td>\n",
       "    </tr>\n",
       "    <tr>\n",
       "      <th>11</th>\n",
       "      <td>1</td>\n",
       "      <td>Rent</td>\n",
       "    </tr>\n",
       "    <tr>\n",
       "      <th>12</th>\n",
       "      <td>2</td>\n",
       "      <td>Own</td>\n",
       "    </tr>\n",
       "    <tr>\n",
       "      <th>13</th>\n",
       "      <td>2</td>\n",
       "      <td>Own</td>\n",
       "    </tr>\n",
       "    <tr>\n",
       "      <th>14</th>\n",
       "      <td>2</td>\n",
       "      <td>Rent</td>\n",
       "    </tr>\n",
       "    <tr>\n",
       "      <th>16</th>\n",
       "      <td>2</td>\n",
       "      <td>Own</td>\n",
       "    </tr>\n",
       "    <tr>\n",
       "      <th>17</th>\n",
       "      <td>2</td>\n",
       "      <td>Rent</td>\n",
       "    </tr>\n",
       "    <tr>\n",
       "      <th>19</th>\n",
       "      <td>2</td>\n",
       "      <td>Rent</td>\n",
       "    </tr>\n",
       "    <tr>\n",
       "      <th>21</th>\n",
       "      <td>1</td>\n",
       "      <td>Rent</td>\n",
       "    </tr>\n",
       "    <tr>\n",
       "      <th>23</th>\n",
       "      <td>1</td>\n",
       "      <td>Own</td>\n",
       "    </tr>\n",
       "    <tr>\n",
       "      <th>24</th>\n",
       "      <td>2</td>\n",
       "      <td>Rent</td>\n",
       "    </tr>\n",
       "    <tr>\n",
       "      <th>25</th>\n",
       "      <td>2</td>\n",
       "      <td>Live with Parents/Family</td>\n",
       "    </tr>\n",
       "  </tbody>\n",
       "</table>\n",
       "</div>"
      ],
      "text/plain": [
       "   Sex           HouseholdStatus\n",
       "2    1                       Own\n",
       "3    2                      Rent\n",
       "4    2  Live with Parents/Family\n",
       "5    2  Live with Parents/Family\n",
       "6    1                       Own\n",
       "7    1                      Rent\n",
       "8    1                      Rent\n",
       "9    1                      Rent\n",
       "10   1                      Rent\n",
       "11   1                      Rent\n",
       "12   2                       Own\n",
       "13   2                       Own\n",
       "14   2                      Rent\n",
       "16   2                       Own\n",
       "17   2                      Rent\n",
       "19   2                      Rent\n",
       "21   1                      Rent\n",
       "23   1                       Own\n",
       "24   2                      Rent\n",
       "25   2  Live with Parents/Family"
      ]
     },
     "execution_count": 23,
     "metadata": {},
     "output_type": "execute_result"
    }
   ],
   "source": [
    "df.iloc[0:20,[0,9]]"
   ]
  },
  {
   "cell_type": "markdown",
   "metadata": {},
   "source": [
    "---"
   ]
  },
  {
   "cell_type": "markdown",
   "metadata": {},
   "source": [
    "![separator1](https://user-images.githubusercontent.com/7065401/39119545-6d73d9aa-46ec-11e8-98d3-40204614f000.png)\n",
    "\n",
    "<table style=\"width: 100%; border: 4px solid #00F;\">\n",
    "    <tr>\n",
    "        <td width=\"80\"><img src=\"https://user-images.githubusercontent.com/7065401/39122907-870d233a-46f6-11e8-84b1-ede5e3714362.png\"></td>\n",
    "        <td style=\"font-size: 14px; text-align: left\">\n",
    "            <span style=\"color: #00F; font-size: 20px; font-weight: 900; margin-right: 5px;\">9.</span>\n",
    "            Show only `MaritalStatus` of the observations in position 247.\n",
    "        </td>\n",
    "    </tr>\n",
    "</table>"
   ]
  },
  {
   "cell_type": "code",
   "execution_count": 33,
   "metadata": {},
   "outputs": [
    {
     "data": {
      "text/plain": [
       "'1'"
      ]
     },
     "execution_count": 33,
     "metadata": {},
     "output_type": "execute_result"
    }
   ],
   "source": [
    "df.iloc[247, 1]\n"
   ]
  },
  {
   "cell_type": "markdown",
   "metadata": {},
   "source": [
    "---"
   ]
  },
  {
   "cell_type": "markdown",
   "metadata": {},
   "source": [
    "![separator1](https://user-images.githubusercontent.com/7065401/39119545-6d73d9aa-46ec-11e8-98d3-40204614f000.png)\n",
    "\n",
    "<table style=\"width: 100%; border: 4px solid #00F;\">\n",
    "    <tr>\n",
    "        <td width=\"80\"><img src=\"https://user-images.githubusercontent.com/7065401/39122907-870d233a-46f6-11e8-84b1-ede5e3714362.png\"></td>\n",
    "        <td style=\"font-size: 14px; text-align: left\">\n",
    "            <span style=\"color: #00F; font-size: 20px; font-weight: 900; margin-right: 5px;\">10.</span>\n",
    "            How many males answered the survey?\n",
    "        </td>\n",
    "    </tr>\n",
    "</table>"
   ]
  },
  {
   "cell_type": "code",
   "execution_count": 29,
   "metadata": {},
   "outputs": [
    {
     "data": {
      "text/plain": [
       "3049"
      ]
     },
     "execution_count": 29,
     "metadata": {},
     "output_type": "execute_result"
    }
   ],
   "source": [
    "df.loc[df['Sex'] == '1']['Sex'].count()\n"
   ]
  },
  {
   "cell_type": "markdown",
   "metadata": {},
   "source": [
    "---"
   ]
  },
  {
   "cell_type": "markdown",
   "metadata": {},
   "source": [
    "![separator1](https://user-images.githubusercontent.com/7065401/39119545-6d73d9aa-46ec-11e8-98d3-40204614f000.png)\n",
    "\n",
    "<table style=\"width: 100%; border: 4px solid #00F;\">\n",
    "    <tr>\n",
    "        <td width=\"80\"><img src=\"https://user-images.githubusercontent.com/7065401/39122907-870d233a-46f6-11e8-84b1-ede5e3714362.png\"></td>\n",
    "        <td style=\"font-size: 14px; text-align: left\">\n",
    "            <span style=\"color: #00F; font-size: 20px; font-weight: 900; margin-right: 5px;\">11.</span>\n",
    "            How many people \"Live with Parents/Family\"?\n",
    "        </td>\n",
    "    </tr>\n",
    "</table>\n",
    "\n",
    "> ⚠️ <i>Remember \"Live with Parents/Family\" is on `HouseholdStatus` column.</i>"
   ]
  },
  {
   "cell_type": "code",
   "execution_count": 34,
   "metadata": {},
   "outputs": [
    {
     "data": {
      "text/plain": [
       "1394"
      ]
     },
     "execution_count": 34,
     "metadata": {},
     "output_type": "execute_result"
    }
   ],
   "source": [
    "df.loc[df['HouseholdStatus'] == 'Live with Parents/Family']['HouseholdStatus'].count()\n"
   ]
  },
  {
   "cell_type": "markdown",
   "metadata": {},
   "source": [
    "---"
   ]
  },
  {
   "cell_type": "markdown",
   "metadata": {},
   "source": [
    "![separator2](https://user-images.githubusercontent.com/7065401/39119518-59fa51ce-46ec-11e8-8503-5f8136558f2b.png)\n",
    "\n",
    "### Optional exercises"
   ]
  },
  {
   "cell_type": "markdown",
   "metadata": {},
   "source": [
    "![separator1](https://user-images.githubusercontent.com/7065401/39119545-6d73d9aa-46ec-11e8-98d3-40204614f000.png)\n",
    "\n",
    "<table style=\"width: 100%; border: 4px solid #00F;\">\n",
    "    <tr>\n",
    "        <td width=\"80\"><img src=\"https://user-images.githubusercontent.com/7065401/39122907-870d233a-46f6-11e8-84b1-ede5e3714362.png\"></td>\n",
    "        <td style=\"font-size: 14px; text-align: left\">\n",
    "            <span style=\"color: #00F; font-size: 20px; font-weight: 900; margin-right: 5px;\">12.</span>\n",
    "            What is the most common `EthnicClass`?\n",
    "        </td>\n",
    "    </tr>\n",
    "</table>"
   ]
  },
  {
   "cell_type": "code",
   "execution_count": 38,
   "metadata": {},
   "outputs": [
    {
     "data": {
      "text/plain": [
       "EthnicClass\n",
       "7    4577\n",
       "5     870\n",
       "3     630\n",
       "2     379\n",
       "8     175\n",
       "1     111\n",
       "6      88\n",
       "4      12\n",
       "Name: EthnicClass, dtype: int64"
      ]
     },
     "execution_count": 38,
     "metadata": {},
     "output_type": "execute_result"
    }
   ],
   "source": [
    "df.groupby('EthnicClass')['EthnicClass'].count().sort_values(ascending=False)\n"
   ]
  },
  {
   "cell_type": "markdown",
   "metadata": {},
   "source": [
    "---"
   ]
  },
  {
   "cell_type": "markdown",
   "metadata": {},
   "source": [
    "![separator1](https://user-images.githubusercontent.com/7065401/39119545-6d73d9aa-46ec-11e8-98d3-40204614f000.png)\n",
    "\n",
    "<table style=\"width: 100%; border: 4px solid #00F;\">\n",
    "    <tr>\n",
    "        <td width=\"80\"><img src=\"https://user-images.githubusercontent.com/7065401/39122907-870d233a-46f6-11e8-84b1-ede5e3714362.png\"></td>\n",
    "        <td style=\"font-size: 14px; text-align: left\">\n",
    "            <span style=\"color: #00F; font-size: 20px; font-weight: 900; margin-right: 5px;\">13.</span>\n",
    "            Which occupation gets the highest anual income?\n",
    "        </td>\n",
    "    </tr>\n",
    "</table>"
   ]
  },
  {
   "cell_type": "code",
   "execution_count": 41,
   "metadata": {},
   "outputs": [
    {
     "data": {
      "text/html": [
       "<div>\n",
       "<style scoped>\n",
       "    .dataframe tbody tr th:only-of-type {\n",
       "        vertical-align: middle;\n",
       "    }\n",
       "\n",
       "    .dataframe tbody tr th {\n",
       "        vertical-align: top;\n",
       "    }\n",
       "\n",
       "    .dataframe thead th {\n",
       "        text-align: right;\n",
       "    }\n",
       "</style>\n",
       "<table border=\"1\" class=\"dataframe\">\n",
       "  <thead>\n",
       "    <tr style=\"text-align: right;\">\n",
       "      <th></th>\n",
       "      <th>AnualIncome</th>\n",
       "    </tr>\n",
       "    <tr>\n",
       "      <th>Occupation</th>\n",
       "      <th></th>\n",
       "    </tr>\n",
       "  </thead>\n",
       "  <tbody>\n",
       "    <tr>\n",
       "      <th>1</th>\n",
       "      <td>112422062</td>\n",
       "    </tr>\n",
       "    <tr>\n",
       "      <th>4</th>\n",
       "      <td>26058933</td>\n",
       "    </tr>\n",
       "    <tr>\n",
       "      <th>6</th>\n",
       "      <td>22635572</td>\n",
       "    </tr>\n",
       "    <tr>\n",
       "      <th>5</th>\n",
       "      <td>20808179</td>\n",
       "    </tr>\n",
       "    <tr>\n",
       "      <th>2</th>\n",
       "      <td>20156323</td>\n",
       "    </tr>\n",
       "    <tr>\n",
       "      <th>8</th>\n",
       "      <td>17567999</td>\n",
       "    </tr>\n",
       "    <tr>\n",
       "      <th>3</th>\n",
       "      <td>17262711</td>\n",
       "    </tr>\n",
       "    <tr>\n",
       "      <th>9</th>\n",
       "      <td>5489970</td>\n",
       "    </tr>\n",
       "    <tr>\n",
       "      <th>7</th>\n",
       "      <td>4075155</td>\n",
       "    </tr>\n",
       "  </tbody>\n",
       "</table>\n",
       "</div>"
      ],
      "text/plain": [
       "            AnualIncome\n",
       "Occupation             \n",
       "1             112422062\n",
       "4              26058933\n",
       "6              22635572\n",
       "5              20808179\n",
       "2              20156323\n",
       "8              17567999\n",
       "3              17262711\n",
       "9               5489970\n",
       "7               4075155"
      ]
     },
     "execution_count": 41,
     "metadata": {},
     "output_type": "execute_result"
    }
   ],
   "source": [
    "# parse AnualIncome as int\n",
    "df['AnualIncome'] = df['AnualIncome'].apply(int)\n",
    "\n",
    "df.groupby('Occupation')['Occupation', 'AnualIncome'].sum().sort_values(by='AnualIncome', ascending=False)\n"
   ]
  },
  {
   "cell_type": "markdown",
   "metadata": {},
   "source": [
    "![separator2](https://user-images.githubusercontent.com/7065401/39119518-59fa51ce-46ec-11e8-8503-5f8136558f2b.png)"
   ]
  }
 ],
 "metadata": {
  "kernelspec": {
   "display_name": "Python 3",
   "language": "python",
   "name": "python3"
  },
  "language_info": {
   "codemirror_mode": {
    "name": "ipython",
    "version": 3
   },
   "file_extension": ".py",
   "mimetype": "text/x-python",
   "name": "python",
   "nbconvert_exporter": "python",
   "pygments_lexer": "ipython3",
   "version": "3.6.6"
  }
 },
 "nbformat": 4,
 "nbformat_minor": 2
}
